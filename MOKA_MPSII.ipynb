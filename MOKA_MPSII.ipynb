{
 "cells": [
  {
   "cell_type": "markdown",
   "metadata": {},
   "source": [
    "## Projeto MOKA - Sindrome Rara MPSII\n",
    "\n"
   ]
  },
  {
   "cell_type": "markdown",
   "metadata": {},
   "source": [
    "\n",
    "\n",
    "Foram selecionados os atributos para compor essa análise , a partir da amostra dos atendimentos via hospital. Os detalhes dessa análise e seleção , estão no documento \"Feature Analysis - Hospital.xlsx\" ( https://github.com/paulo-moreti/MOKA ). \n",
    "\n",
    "Aqui iniciamos a fase de preparação dos dados e seguimos com a exploração de seu potencial para utilização em projeto de Machine Learning. Ao final , apresentamos nossas conclusões.\n",
    "\n"
   ]
  },
  {
   "cell_type": "code",
   "execution_count": 41,
   "metadata": {},
   "outputs": [],
   "source": [
    "# Carga das bibliotecas \n",
    "import pandas as pd \n",
    "import numpy as np\n",
    "import matplotlib.pyplot as plt\n",
    "import seaborn as sns\n",
    "import category_encoders as ce\n",
    "from sklearn.preprocessing import StandardScaler\n",
    "from scipy import stats\n",
    "import researchpy as rp\n",
    "import warnings\n",
    "warnings.filterwarnings('ignore')\n",
    "%matplotlib inline"
   ]
  },
  {
   "cell_type": "code",
   "execution_count": 40,
   "metadata": {},
   "outputs": [],
   "source": [
    "# Carga dos dados originais - Base Hospital\n",
    "df = pd.read_excel (r'''/home/paulo/Work-Main/Projeto MOKA/Arquivos MPS-II/Machine_Learning_MPS_RD_2.xlsx''' )"
   ]
  },
  {
   "cell_type": "code",
   "execution_count": 39,
   "metadata": {
    "scrolled": true
   },
   "outputs": [
    {
     "name": "stdout",
     "output_type": "stream",
     "text": [
      "(11442, 115)\n"
     ]
    }
   ],
   "source": [
    "# Dimensões da tabela de dados ( linhas , colunas )\n",
    "print(df.shape)"
   ]
  },
  {
   "cell_type": "code",
   "execution_count": 42,
   "metadata": {},
   "outputs": [
    {
     "data": {
      "text/html": [
       "<div>\n",
       "<style scoped>\n",
       "    .dataframe tbody tr th:only-of-type {\n",
       "        vertical-align: middle;\n",
       "    }\n",
       "\n",
       "    .dataframe tbody tr th {\n",
       "        vertical-align: top;\n",
       "    }\n",
       "\n",
       "    .dataframe thead th {\n",
       "        text-align: right;\n",
       "    }\n",
       "</style>\n",
       "<table border=\"1\" class=\"dataframe\">\n",
       "  <thead>\n",
       "    <tr style=\"text-align: right;\">\n",
       "      <th></th>\n",
       "      <th>UF_ZI</th>\n",
       "      <th>ANO_CMPT</th>\n",
       "      <th>MES_CMPT</th>\n",
       "      <th>ESPEC</th>\n",
       "      <th>CGC_HOSP</th>\n",
       "      <th>N_AIH</th>\n",
       "      <th>PCN (CEP+NASC+SEXO)</th>\n",
       "      <th>IDENT</th>\n",
       "      <th>CEP</th>\n",
       "      <th>MUNIC_RES</th>\n",
       "      <th>...</th>\n",
       "      <th>DIAGSEC9</th>\n",
       "      <th>TPDISEC1</th>\n",
       "      <th>TPDISEC2</th>\n",
       "      <th>TPDISEC3</th>\n",
       "      <th>TPDISEC4</th>\n",
       "      <th>TPDISEC5</th>\n",
       "      <th>TPDISEC6</th>\n",
       "      <th>TPDISEC7</th>\n",
       "      <th>TPDISEC8</th>\n",
       "      <th>TPDISEC9</th>\n",
       "    </tr>\n",
       "  </thead>\n",
       "  <tbody>\n",
       "    <tr>\n",
       "      <th>0</th>\n",
       "      <td>110004</td>\n",
       "      <td>2012</td>\n",
       "      <td>4</td>\n",
       "      <td>7</td>\n",
       "      <td>NaN</td>\n",
       "      <td>1112100490853</td>\n",
       "      <td>76974000200711161</td>\n",
       "      <td>1</td>\n",
       "      <td>76974000</td>\n",
       "      <td>110009</td>\n",
       "      <td>...</td>\n",
       "      <td>NaN</td>\n",
       "      <td>NaN</td>\n",
       "      <td>NaN</td>\n",
       "      <td>NaN</td>\n",
       "      <td>NaN</td>\n",
       "      <td>NaN</td>\n",
       "      <td>NaN</td>\n",
       "      <td>NaN</td>\n",
       "      <td>NaN</td>\n",
       "      <td>NaN</td>\n",
       "    </tr>\n",
       "    <tr>\n",
       "      <th>1</th>\n",
       "      <td>110004</td>\n",
       "      <td>2013</td>\n",
       "      <td>12</td>\n",
       "      <td>3</td>\n",
       "      <td>NaN</td>\n",
       "      <td>1113100408629</td>\n",
       "      <td>76960970199712051</td>\n",
       "      <td>1</td>\n",
       "      <td>76960970</td>\n",
       "      <td>110004</td>\n",
       "      <td>...</td>\n",
       "      <td>NaN</td>\n",
       "      <td>NaN</td>\n",
       "      <td>NaN</td>\n",
       "      <td>NaN</td>\n",
       "      <td>NaN</td>\n",
       "      <td>NaN</td>\n",
       "      <td>NaN</td>\n",
       "      <td>NaN</td>\n",
       "      <td>NaN</td>\n",
       "      <td>NaN</td>\n",
       "    </tr>\n",
       "    <tr>\n",
       "      <th>2</th>\n",
       "      <td>110015</td>\n",
       "      <td>2015</td>\n",
       "      <td>11</td>\n",
       "      <td>7</td>\n",
       "      <td>4.380507e+12</td>\n",
       "      <td>1115100750820</td>\n",
       "      <td>76920000200206211</td>\n",
       "      <td>1</td>\n",
       "      <td>76920000</td>\n",
       "      <td>110015</td>\n",
       "      <td>...</td>\n",
       "      <td>NaN</td>\n",
       "      <td>0.0</td>\n",
       "      <td>0.0</td>\n",
       "      <td>0.0</td>\n",
       "      <td>0.0</td>\n",
       "      <td>0.0</td>\n",
       "      <td>0.0</td>\n",
       "      <td>0.0</td>\n",
       "      <td>0.0</td>\n",
       "      <td>0.0</td>\n",
       "    </tr>\n",
       "    <tr>\n",
       "      <th>3</th>\n",
       "      <td>110000</td>\n",
       "      <td>2015</td>\n",
       "      <td>12</td>\n",
       "      <td>7</td>\n",
       "      <td>4.287520e+12</td>\n",
       "      <td>1115101117526</td>\n",
       "      <td>76960970199712051</td>\n",
       "      <td>1</td>\n",
       "      <td>76960970</td>\n",
       "      <td>110004</td>\n",
       "      <td>...</td>\n",
       "      <td>NaN</td>\n",
       "      <td>0.0</td>\n",
       "      <td>0.0</td>\n",
       "      <td>0.0</td>\n",
       "      <td>0.0</td>\n",
       "      <td>0.0</td>\n",
       "      <td>0.0</td>\n",
       "      <td>0.0</td>\n",
       "      <td>0.0</td>\n",
       "      <td>0.0</td>\n",
       "    </tr>\n",
       "    <tr>\n",
       "      <th>4</th>\n",
       "      <td>110009</td>\n",
       "      <td>2016</td>\n",
       "      <td>4</td>\n",
       "      <td>7</td>\n",
       "      <td>4.695284e+12</td>\n",
       "      <td>1116100542205</td>\n",
       "      <td>76974000200711161</td>\n",
       "      <td>1</td>\n",
       "      <td>76974000</td>\n",
       "      <td>110009</td>\n",
       "      <td>...</td>\n",
       "      <td>NaN</td>\n",
       "      <td>0.0</td>\n",
       "      <td>0.0</td>\n",
       "      <td>0.0</td>\n",
       "      <td>0.0</td>\n",
       "      <td>0.0</td>\n",
       "      <td>0.0</td>\n",
       "      <td>0.0</td>\n",
       "      <td>0.0</td>\n",
       "      <td>0.0</td>\n",
       "    </tr>\n",
       "  </tbody>\n",
       "</table>\n",
       "<p>5 rows × 115 columns</p>\n",
       "</div>"
      ],
      "text/plain": [
       "    UF_ZI  ANO_CMPT  MES_CMPT  ESPEC      CGC_HOSP          N_AIH  \\\n",
       "0  110004      2012         4      7           NaN  1112100490853   \n",
       "1  110004      2013        12      3           NaN  1113100408629   \n",
       "2  110015      2015        11      7  4.380507e+12  1115100750820   \n",
       "3  110000      2015        12      7  4.287520e+12  1115101117526   \n",
       "4  110009      2016         4      7  4.695284e+12  1116100542205   \n",
       "\n",
       "   PCN (CEP+NASC+SEXO)  IDENT       CEP  MUNIC_RES    ...     DIAGSEC9  \\\n",
       "0    76974000200711161      1  76974000     110009    ...          NaN   \n",
       "1    76960970199712051      1  76960970     110004    ...          NaN   \n",
       "2    76920000200206211      1  76920000     110015    ...          NaN   \n",
       "3    76960970199712051      1  76960970     110004    ...          NaN   \n",
       "4    76974000200711161      1  76974000     110009    ...          NaN   \n",
       "\n",
       "   TPDISEC1  TPDISEC2  TPDISEC3  TPDISEC4  TPDISEC5  TPDISEC6  TPDISEC7  \\\n",
       "0       NaN       NaN       NaN       NaN       NaN       NaN       NaN   \n",
       "1       NaN       NaN       NaN       NaN       NaN       NaN       NaN   \n",
       "2       0.0       0.0       0.0       0.0       0.0       0.0       0.0   \n",
       "3       0.0       0.0       0.0       0.0       0.0       0.0       0.0   \n",
       "4       0.0       0.0       0.0       0.0       0.0       0.0       0.0   \n",
       "\n",
       "   TPDISEC8  TPDISEC9  \n",
       "0       NaN       NaN  \n",
       "1       NaN       NaN  \n",
       "2       0.0       0.0  \n",
       "3       0.0       0.0  \n",
       "4       0.0       0.0  \n",
       "\n",
       "[5 rows x 115 columns]"
      ]
     },
     "execution_count": 42,
     "metadata": {},
     "output_type": "execute_result"
    }
   ],
   "source": [
    "# Uma amostra dos dados carregados\n",
    "df.head()"
   ]
  },
  {
   "cell_type": "markdown",
   "metadata": {},
   "source": [
    "### Data Wrangling\n",
    "\"It's the process of converting data from the initial format to a format that may be better for analysis\""
   ]
  },
  {
   "cell_type": "code",
   "execution_count": 43,
   "metadata": {},
   "outputs": [],
   "source": [
    "# Remove all of the columns we don’t consider for this analysis after initial lookup \n",
    "df = df[['MUNIC_RES', 'UTI_MES_TO', 'UTI_INT_TO', 'PROC_REA', 'VAL_SH', 'VAL_UTI', \n",
    "         'DIAG_PRINC', 'DIAG_SECUN', 'IDADE', 'DIAS_PERM' , 'DIAGSEC1', 'DIAGSEC2', 'DIAGSEC3' ]]"
   ]
  },
  {
   "cell_type": "code",
   "execution_count": 44,
   "metadata": {},
   "outputs": [
    {
     "data": {
      "text/plain": [
       "MUNIC_RES       int64\n",
       "UTI_MES_TO      int64\n",
       "UTI_INT_TO      int64\n",
       "PROC_REA        int64\n",
       "VAL_SH        float64\n",
       "VAL_UTI       float64\n",
       "DIAG_PRINC     object\n",
       "DIAG_SECUN     object\n",
       "IDADE           int64\n",
       "DIAS_PERM       int64\n",
       "DIAGSEC1       object\n",
       "DIAGSEC2       object\n",
       "DIAGSEC3       object\n",
       "dtype: object"
      ]
     },
     "execution_count": 44,
     "metadata": {},
     "output_type": "execute_result"
    }
   ],
   "source": [
    "# Columns listing / Atributes Data Types \n",
    "df.dtypes"
   ]
  },
  {
   "cell_type": "code",
   "execution_count": 45,
   "metadata": {},
   "outputs": [
    {
     "data": {
      "text/plain": [
       "7211"
      ]
     },
     "execution_count": 45,
     "metadata": {},
     "output_type": "execute_result"
    }
   ],
   "source": [
    "# Verificando valores zerados\n",
    "\n",
    "#count rows with value = 0 \n",
    "len(df[df['DIAG_SECUN'] == 0 ])"
   ]
  },
  {
   "cell_type": "code",
   "execution_count": null,
   "metadata": {},
   "outputs": [],
   "source": [
    "Rows zero value : \n",
    "\n",
    "MUNIC_RES  = 0  \n",
    "UTI_MES_TO =  11412\n",
    "UTI_INT_TO =  11442\n",
    "PROC_REA   = 0        \n",
    "VAL_SH     = 0\n",
    "VAL_UTI    = 11412 \n",
    "DIAG_PRINC = 0\n",
    "DIAG_SECUN = 0    \n",
    "IDADE      = 3  \n",
    "DIAS_PERM  = 9302 \n",
    "DIAGSEC1   = 0\n",
    "DIAGSEC2   = 0\n",
    "DIAGSEC3   = 0\n",
    "\n",
    "Dado que praticamente a totalidade  dos valores dos atributos  :  UTI_MES_TO , UTI_INT_TO , VAL_UTI estão zerados\n",
    "serão desconsiderados na análise. \n",
    "As linhas correspondentes aos valores zerados do atributo DIAS_PERM serão apagadas."
   ]
  },
  {
   "cell_type": "code",
   "execution_count": 46,
   "metadata": {},
   "outputs": [],
   "source": [
    "# drop columns \n",
    "df=  df.drop(['UTI_MES_TO'], axis=1)\n",
    "df=  df.drop(['UTI_INT_TO'], axis=1)\n",
    "df=  df.drop(['VAL_UTI'], axis=1)\n",
    "# drop rows with zero values in atribute\n",
    "df.drop(df[df.DIAS_PERM == 0].index, inplace=True)"
   ]
  },
  {
   "cell_type": "markdown",
   "metadata": {},
   "source": [
    "### Data Missing\n",
    "How to deal with missing data:\n",
    "\n",
    "1. Drop data :\n",
    "  drop the whole row or drop the whole column\n",
    "2. Replace data : \n",
    "    a. replace it by mean\n",
    "    b. replace it by frequency\n",
    "    c. replace it based on other functions\n",
    "\n",
    "Whole columns should be dropped only if most entries in the column are empty. "
   ]
  },
  {
   "cell_type": "code",
   "execution_count": 47,
   "metadata": {},
   "outputs": [
    {
     "name": "stdout",
     "output_type": "stream",
     "text": [
      "Your selected dataframe has 10 columns.\n",
      "There are 4 columns that have missing values.\n"
     ]
    },
    {
     "data": {
      "text/html": [
       "<div>\n",
       "<style scoped>\n",
       "    .dataframe tbody tr th:only-of-type {\n",
       "        vertical-align: middle;\n",
       "    }\n",
       "\n",
       "    .dataframe tbody tr th {\n",
       "        vertical-align: top;\n",
       "    }\n",
       "\n",
       "    .dataframe thead th {\n",
       "        text-align: right;\n",
       "    }\n",
       "</style>\n",
       "<table border=\"1\" class=\"dataframe\">\n",
       "  <thead>\n",
       "    <tr style=\"text-align: right;\">\n",
       "      <th></th>\n",
       "      <th>Missing Values</th>\n",
       "      <th>% of Total Values</th>\n",
       "    </tr>\n",
       "  </thead>\n",
       "  <tbody>\n",
       "    <tr>\n",
       "      <th>DIAGSEC3</th>\n",
       "      <td>2139</td>\n",
       "      <td>100.0</td>\n",
       "    </tr>\n",
       "    <tr>\n",
       "      <th>DIAGSEC2</th>\n",
       "      <td>2135</td>\n",
       "      <td>99.8</td>\n",
       "    </tr>\n",
       "    <tr>\n",
       "      <th>DIAGSEC1</th>\n",
       "      <td>2124</td>\n",
       "      <td>99.3</td>\n",
       "    </tr>\n",
       "    <tr>\n",
       "      <th>DIAG_SECUN</th>\n",
       "      <td>546</td>\n",
       "      <td>25.5</td>\n",
       "    </tr>\n",
       "  </tbody>\n",
       "</table>\n",
       "</div>"
      ],
      "text/plain": [
       "            Missing Values  % of Total Values\n",
       "DIAGSEC3              2139              100.0\n",
       "DIAGSEC2              2135               99.8\n",
       "DIAGSEC1              2124               99.3\n",
       "DIAG_SECUN             546               25.5"
      ]
     },
     "execution_count": 47,
     "metadata": {},
     "output_type": "execute_result"
    }
   ],
   "source": [
    "# code from : https://stackoverflow.com/questions/26266362/how-to-count-the-nan-values-in-a-column-in-pandas-dataframe/39734251#39734251\n",
    "def missing_values_table(df):\n",
    "        mis_val = df.isnull().sum()\n",
    "        mis_val_percent = 100 * df.isnull().sum() / len(df)\n",
    "        mis_val_table = pd.concat([mis_val, mis_val_percent], axis=1)\n",
    "        mis_val_table_ren_columns = mis_val_table.rename(\n",
    "        columns = {0 : 'Missing Values', 1 : '% of Total Values'})\n",
    "        mis_val_table_ren_columns = mis_val_table_ren_columns[\n",
    "            mis_val_table_ren_columns.iloc[:,1] != 0].sort_values(\n",
    "        '% of Total Values', ascending=False).round(1)\n",
    "        print (\"Your selected dataframe has \" + str(df.shape[1]) + \" columns.\\n\"      \n",
    "            \"There are \" + str(mis_val_table_ren_columns.shape[0]) +\n",
    "              \" columns that have missing values.\")\n",
    "        return mis_val_table_ren_columns\n",
    "missing_values_table(df)"
   ]
  },
  {
   "cell_type": "markdown",
   "metadata": {},
   "source": [
    "Baseado nos critérios de tratamento dos dados \"missing\"  iremos desprezar as features com a maioria de valores nulos ( DIAGSEC1 , 2, 3 ) \n",
    "e eliminar linhas com valores nulos ( Diagnostico Sec. ) .Mas a coluna 'Diagnostico Sec.\" mesmo retirando as ocorrencias nulas , tem muitos zeros. Iremos eliminar essa coluna também. "
   ]
  },
  {
   "cell_type": "code",
   "execution_count": 48,
   "metadata": {},
   "outputs": [],
   "source": [
    "df=  df.drop(['DIAGSEC3'], axis=1)\n",
    "df = df.drop(['DIAGSEC2'], axis=1)\n",
    "df = df.drop(['DIAGSEC1'], axis=1)\n",
    "#df= df.drop(df.loc[df['DIAG_SECUN'].isnull()].index)\n",
    "df = df.drop(['DIAG_SECUN'], axis=1)"
   ]
  },
  {
   "cell_type": "markdown",
   "metadata": {},
   "source": [
    "### Data Transformation\n",
    "\n",
    "Method to transform feature code in numerical value : \n",
    "LabelCount encoding and it revolves around ranking categories by their counts in the train set. Because it ranks the values, either ascending or descending order can be used. LabelCount has certain advantages in comparison to standard count encoding - it is not sensitive to outliers and should not give the same encoding to different values.\n",
    "Source : https://wrosinski.github.io/fe_categorical_encoding/"
   ]
  },
  {
   "cell_type": "code",
   "execution_count": 49,
   "metadata": {},
   "outputs": [
    {
     "data": {
      "text/plain": [
       "E762    676\n",
       "E761    555\n",
       "E763    319\n",
       "E760    134\n",
       "E752     91\n",
       "E889     54\n",
       "G328     51\n",
       "J189     21\n",
       "Z039     17\n",
       "E730     14\n",
       "Name: DIAG_PRINC, dtype: int64"
      ]
     },
     "execution_count": 49,
     "metadata": {},
     "output_type": "execute_result"
    }
   ],
   "source": [
    "# Converting data types ( categorical feature in numerical values )\n",
    "df.DIAG_PRINC.value_counts()[:10]"
   ]
  },
  {
   "cell_type": "code",
   "execution_count": 50,
   "metadata": {},
   "outputs": [],
   "source": [
    "def labelcount_encode(X, categorical_features, ascending=False):\n",
    "    print('LabelCount encoding: {}'.format(categorical_features))\n",
    "    X_ = pd.DataFrame()\n",
    "    for cat_feature in categorical_features:\n",
    "        cat_feature_value_counts = X[cat_feature].value_counts()\n",
    "        value_counts_list = cat_feature_value_counts.index.tolist()\n",
    "        if ascending:\n",
    "            # for ascending ordering\n",
    "            value_counts_range = list(\n",
    "                reversed(range(len(cat_feature_value_counts))))\n",
    "        else:\n",
    "            # for descending ordering\n",
    "            value_counts_range = list(range(len(cat_feature_value_counts)))\n",
    "        labelcount_dict = dict(zip(value_counts_list, value_counts_range))\n",
    "        X_[cat_feature] = X[cat_feature].map(\n",
    "            labelcount_dict)\n",
    "    X_ = X_.add_suffix('_labelcount_encoded')\n",
    "    if ascending:\n",
    "        X_ = X_.add_suffix('_ascending')\n",
    "    else:\n",
    "        X_ = X_.add_suffix('_descending')\n",
    "    X_ = X_.astype(np.uint32)\n",
    "    return X_\n"
   ]
  },
  {
   "cell_type": "code",
   "execution_count": 51,
   "metadata": {},
   "outputs": [
    {
     "name": "stdout",
     "output_type": "stream",
     "text": [
      "LabelCount encoding: ['DIAG_PRINC']\n"
     ]
    }
   ],
   "source": [
    "df.DIAG_PRINC = labelcount_encode(df, ['DIAG_PRINC'])\n"
   ]
  },
  {
   "cell_type": "code",
   "execution_count": 52,
   "metadata": {},
   "outputs": [
    {
     "data": {
      "text/html": [
       "<div>\n",
       "<style scoped>\n",
       "    .dataframe tbody tr th:only-of-type {\n",
       "        vertical-align: middle;\n",
       "    }\n",
       "\n",
       "    .dataframe tbody tr th {\n",
       "        vertical-align: top;\n",
       "    }\n",
       "\n",
       "    .dataframe thead th {\n",
       "        text-align: right;\n",
       "    }\n",
       "</style>\n",
       "<table border=\"1\" class=\"dataframe\">\n",
       "  <thead>\n",
       "    <tr style=\"text-align: right;\">\n",
       "      <th></th>\n",
       "      <th>MUNIC_RES</th>\n",
       "      <th>PROC_REA</th>\n",
       "      <th>VAL_SH</th>\n",
       "      <th>DIAG_PRINC</th>\n",
       "      <th>IDADE</th>\n",
       "      <th>DIAS_PERM</th>\n",
       "    </tr>\n",
       "  </thead>\n",
       "  <tbody>\n",
       "    <tr>\n",
       "      <th>0</th>\n",
       "      <td>110009</td>\n",
       "      <td>303080078</td>\n",
       "      <td>275.66</td>\n",
       "      <td>90</td>\n",
       "      <td>4</td>\n",
       "      <td>3</td>\n",
       "    </tr>\n",
       "    <tr>\n",
       "      <th>1</th>\n",
       "      <td>110004</td>\n",
       "      <td>303140151</td>\n",
       "      <td>554.75</td>\n",
       "      <td>42</td>\n",
       "      <td>15</td>\n",
       "      <td>4</td>\n",
       "    </tr>\n",
       "    <tr>\n",
       "      <th>2</th>\n",
       "      <td>110015</td>\n",
       "      <td>301060010</td>\n",
       "      <td>43.65</td>\n",
       "      <td>1</td>\n",
       "      <td>13</td>\n",
       "      <td>1</td>\n",
       "    </tr>\n",
       "    <tr>\n",
       "      <th>3</th>\n",
       "      <td>110004</td>\n",
       "      <td>303030046</td>\n",
       "      <td>131.92</td>\n",
       "      <td>1</td>\n",
       "      <td>18</td>\n",
       "      <td>3</td>\n",
       "    </tr>\n",
       "    <tr>\n",
       "      <th>4</th>\n",
       "      <td>110009</td>\n",
       "      <td>303140100</td>\n",
       "      <td>152.97</td>\n",
       "      <td>20</td>\n",
       "      <td>8</td>\n",
       "      <td>2</td>\n",
       "    </tr>\n",
       "  </tbody>\n",
       "</table>\n",
       "</div>"
      ],
      "text/plain": [
       "   MUNIC_RES   PROC_REA  VAL_SH  DIAG_PRINC  IDADE  DIAS_PERM\n",
       "0     110009  303080078  275.66          90      4          3\n",
       "1     110004  303140151  554.75          42     15          4\n",
       "2     110015  301060010   43.65           1     13          1\n",
       "3     110004  303030046  131.92           1     18          3\n",
       "4     110009  303140100  152.97          20      8          2"
      ]
     },
     "execution_count": 52,
     "metadata": {},
     "output_type": "execute_result"
    }
   ],
   "source": [
    "# After data conversion \n",
    "df.head()"
   ]
  },
  {
   "cell_type": "markdown",
   "metadata": {},
   "source": [
    "### Removing Outliers\n",
    "\n",
    "These can be due to typos in data entry, mistakes in units, or they could be legitimate but extreme values."
   ]
  },
  {
   "cell_type": "code",
   "execution_count": 53,
   "metadata": {},
   "outputs": [
    {
     "name": "stdout",
     "output_type": "stream",
     "text": [
      "(2140, 6)\n"
     ]
    }
   ],
   "source": [
    "# Before remove Outliers ( # observations, # columns/features)\n",
    "print(df.shape)"
   ]
  },
  {
   "cell_type": "code",
   "execution_count": 54,
   "metadata": {},
   "outputs": [],
   "source": [
    "df=df[(np.abs(stats.zscore(df)) < 3).all(axis=1)]"
   ]
  },
  {
   "cell_type": "code",
   "execution_count": 55,
   "metadata": {},
   "outputs": [
    {
     "name": "stdout",
     "output_type": "stream",
     "text": [
      "<class 'pandas.core.frame.DataFrame'>\n",
      "Int64Index: 1925 entries, 1 to 11440\n",
      "Data columns (total 6 columns):\n",
      "MUNIC_RES     1925 non-null int64\n",
      "PROC_REA      1925 non-null int64\n",
      "VAL_SH        1925 non-null float64\n",
      "DIAG_PRINC    1925 non-null uint32\n",
      "IDADE         1925 non-null int64\n",
      "DIAS_PERM     1925 non-null int64\n",
      "dtypes: float64(1), int64(4), uint32(1)\n",
      "memory usage: 97.8 KB\n"
     ]
    }
   ],
   "source": [
    "# See the column data types and non-missing values *** After cleaning\n",
    "df.info()"
   ]
  },
  {
   "cell_type": "markdown",
   "metadata": {},
   "source": [
    "### ===> 1 .925 observations (atendimentos ) with 5 columns (features) more 1 target ( DIAG_PRINC )"
   ]
  },
  {
   "cell_type": "markdown",
   "metadata": {},
   "source": [
    "# Exploratory data analysis (EDA)\n",
    "\n",
    "It´s an open-ended process where we calculate statistics and make figures to find trends, anomalies, patterns, or relationships within the data"
   ]
  },
  {
   "cell_type": "markdown",
   "metadata": {},
   "source": [
    "#### Data Normalization\n",
    "\n",
    "Why normalization?\n",
    "Normalization is the process of transforming values of several variables into a similar range. Typical normalizations include scaling the variable so the variable average is 0, scaling the variable so the variable variance is 1, or scaling the variable so the variable values range from 0 to 1.\n"
   ]
  },
  {
   "cell_type": "code",
   "execution_count": 56,
   "metadata": {},
   "outputs": [],
   "source": [
    "# replace (origianl value) by (original value)/(maximum value)\n",
    "df['VAL_SH'] = df['VAL_SH']/df['VAL_SH'].max()\n",
    "df['PROC_REA '] = df['PROC_REA']/df['PROC_REA'].max()\n",
    "df['MUNIC_RES'] = df['MUNIC_RES']/df['MUNIC_RES'].max()\n",
    "df['DIAG_PRINC'] = df['DIAG_PRINC']/df['DIAG_PRINC'].max()\n",
    "df['IDADE'] = df['IDADE']/df['IDADE'].max()\n",
    "df['DIAS_PERM'] = df['DIAS_PERM']/df['DIAS_PERM'].max()"
   ]
  },
  {
   "cell_type": "code",
   "execution_count": 57,
   "metadata": {},
   "outputs": [
    {
     "data": {
      "text/html": [
       "<div>\n",
       "<style scoped>\n",
       "    .dataframe tbody tr th:only-of-type {\n",
       "        vertical-align: middle;\n",
       "    }\n",
       "\n",
       "    .dataframe tbody tr th {\n",
       "        vertical-align: top;\n",
       "    }\n",
       "\n",
       "    .dataframe thead th {\n",
       "        text-align: right;\n",
       "    }\n",
       "</style>\n",
       "<table border=\"1\" class=\"dataframe\">\n",
       "  <thead>\n",
       "    <tr style=\"text-align: right;\">\n",
       "      <th></th>\n",
       "      <th>MUNIC_RES</th>\n",
       "      <th>PROC_REA</th>\n",
       "      <th>VAL_SH</th>\n",
       "      <th>DIAG_PRINC</th>\n",
       "      <th>IDADE</th>\n",
       "      <th>DIAS_PERM</th>\n",
       "      <th>PROC_REA</th>\n",
       "    </tr>\n",
       "  </thead>\n",
       "  <tbody>\n",
       "    <tr>\n",
       "      <th>count</th>\n",
       "      <td>1925.000000</td>\n",
       "      <td>1.925000e+03</td>\n",
       "      <td>1925.000000</td>\n",
       "      <td>1925.000000</td>\n",
       "      <td>1925.000000</td>\n",
       "      <td>1925.000000</td>\n",
       "      <td>1925.000000</td>\n",
       "    </tr>\n",
       "    <tr>\n",
       "      <th>mean</th>\n",
       "      <td>0.424141</td>\n",
       "      <td>3.029600e+08</td>\n",
       "      <td>0.029129</td>\n",
       "      <td>0.042226</td>\n",
       "      <td>0.318276</td>\n",
       "      <td>0.105368</td>\n",
       "      <td>0.983509</td>\n",
       "    </tr>\n",
       "    <tr>\n",
       "      <th>std</th>\n",
       "      <td>0.183261</td>\n",
       "      <td>4.285034e+05</td>\n",
       "      <td>0.044348</td>\n",
       "      <td>0.097741</td>\n",
       "      <td>0.182185</td>\n",
       "      <td>0.103404</td>\n",
       "      <td>0.001391</td>\n",
       "    </tr>\n",
       "    <tr>\n",
       "      <th>min</th>\n",
       "      <td>0.211039</td>\n",
       "      <td>3.010600e+08</td>\n",
       "      <td>0.006581</td>\n",
       "      <td>0.000000</td>\n",
       "      <td>0.022727</td>\n",
       "      <td>0.083333</td>\n",
       "      <td>0.977341</td>\n",
       "    </tr>\n",
       "    <tr>\n",
       "      <th>25%</th>\n",
       "      <td>0.249899</td>\n",
       "      <td>3.030300e+08</td>\n",
       "      <td>0.022875</td>\n",
       "      <td>0.000000</td>\n",
       "      <td>0.204545</td>\n",
       "      <td>0.083333</td>\n",
       "      <td>0.983736</td>\n",
       "    </tr>\n",
       "    <tr>\n",
       "      <th>50%</th>\n",
       "      <td>0.500643</td>\n",
       "      <td>3.030300e+08</td>\n",
       "      <td>0.022875</td>\n",
       "      <td>0.017857</td>\n",
       "      <td>0.295455</td>\n",
       "      <td>0.083333</td>\n",
       "      <td>0.983736</td>\n",
       "    </tr>\n",
       "    <tr>\n",
       "      <th>75%</th>\n",
       "      <td>0.501717</td>\n",
       "      <td>3.030300e+08</td>\n",
       "      <td>0.022875</td>\n",
       "      <td>0.035714</td>\n",
       "      <td>0.386364</td>\n",
       "      <td>0.083333</td>\n",
       "      <td>0.983736</td>\n",
       "    </tr>\n",
       "    <tr>\n",
       "      <th>max</th>\n",
       "      <td>1.000000</td>\n",
       "      <td>3.080400e+08</td>\n",
       "      <td>1.000000</td>\n",
       "      <td>1.000000</td>\n",
       "      <td>1.000000</td>\n",
       "      <td>1.000000</td>\n",
       "      <td>1.000000</td>\n",
       "    </tr>\n",
       "  </tbody>\n",
       "</table>\n",
       "</div>"
      ],
      "text/plain": [
       "         MUNIC_RES      PROC_REA       VAL_SH   DIAG_PRINC        IDADE  \\\n",
       "count  1925.000000  1.925000e+03  1925.000000  1925.000000  1925.000000   \n",
       "mean      0.424141  3.029600e+08     0.029129     0.042226     0.318276   \n",
       "std       0.183261  4.285034e+05     0.044348     0.097741     0.182185   \n",
       "min       0.211039  3.010600e+08     0.006581     0.000000     0.022727   \n",
       "25%       0.249899  3.030300e+08     0.022875     0.000000     0.204545   \n",
       "50%       0.500643  3.030300e+08     0.022875     0.017857     0.295455   \n",
       "75%       0.501717  3.030300e+08     0.022875     0.035714     0.386364   \n",
       "max       1.000000  3.080400e+08     1.000000     1.000000     1.000000   \n",
       "\n",
       "         DIAS_PERM    PROC_REA   \n",
       "count  1925.000000  1925.000000  \n",
       "mean      0.105368     0.983509  \n",
       "std       0.103404     0.001391  \n",
       "min       0.083333     0.977341  \n",
       "25%       0.083333     0.983736  \n",
       "50%       0.083333     0.983736  \n",
       "75%       0.083333     0.983736  \n",
       "max       1.000000     1.000000  "
      ]
     },
     "execution_count": 57,
     "metadata": {},
     "output_type": "execute_result"
    }
   ],
   "source": [
    "# Statistics for each column\n",
    "df.describe()"
   ]
  },
  {
   "cell_type": "markdown",
   "metadata": {},
   "source": [
    "#### Pearson Correlation\n",
    "\n",
    "The Pearson Correlation measures the linear dependence between two variables, X and Y. The resulting coefficient is a value between -1 and 1 inclusive, where:\n",
    "\n",
    "     1 : total positive linear correlation,\n",
    "     0 : no linear correlation, the two variables most likely do not affect each other\n",
    "    -1 : total negative linear correlation.\n",
    "    \n",
    "Positive Correlation: both variables change in the same direction.\n",
    "Neutral Correlation: No relationship in the change of the variables.\n",
    "Negative Correlation: variables change in opposite directions"
   ]
  },
  {
   "cell_type": "code",
   "execution_count": 58,
   "metadata": {},
   "outputs": [
    {
     "data": {
      "text/html": [
       "<div>\n",
       "<style scoped>\n",
       "    .dataframe tbody tr th:only-of-type {\n",
       "        vertical-align: middle;\n",
       "    }\n",
       "\n",
       "    .dataframe tbody tr th {\n",
       "        vertical-align: top;\n",
       "    }\n",
       "\n",
       "    .dataframe thead th {\n",
       "        text-align: right;\n",
       "    }\n",
       "</style>\n",
       "<table border=\"1\" class=\"dataframe\">\n",
       "  <thead>\n",
       "    <tr style=\"text-align: right;\">\n",
       "      <th></th>\n",
       "      <th>MUNIC_RES</th>\n",
       "      <th>PROC_REA</th>\n",
       "      <th>VAL_SH</th>\n",
       "      <th>DIAG_PRINC</th>\n",
       "      <th>IDADE</th>\n",
       "      <th>DIAS_PERM</th>\n",
       "      <th>PROC_REA</th>\n",
       "    </tr>\n",
       "  </thead>\n",
       "  <tbody>\n",
       "    <tr>\n",
       "      <th>MUNIC_RES</th>\n",
       "      <td>1.000000</td>\n",
       "      <td>-0.178753</td>\n",
       "      <td>0.079887</td>\n",
       "      <td>0.182730</td>\n",
       "      <td>-0.263256</td>\n",
       "      <td>0.156012</td>\n",
       "      <td>-0.178753</td>\n",
       "    </tr>\n",
       "    <tr>\n",
       "      <th>PROC_REA</th>\n",
       "      <td>-0.178753</td>\n",
       "      <td>1.000000</td>\n",
       "      <td>0.102448</td>\n",
       "      <td>0.028585</td>\n",
       "      <td>0.112711</td>\n",
       "      <td>0.047180</td>\n",
       "      <td>1.000000</td>\n",
       "    </tr>\n",
       "    <tr>\n",
       "      <th>VAL_SH</th>\n",
       "      <td>0.079887</td>\n",
       "      <td>0.102448</td>\n",
       "      <td>1.000000</td>\n",
       "      <td>0.357128</td>\n",
       "      <td>-0.032610</td>\n",
       "      <td>0.546010</td>\n",
       "      <td>0.102448</td>\n",
       "    </tr>\n",
       "    <tr>\n",
       "      <th>DIAG_PRINC</th>\n",
       "      <td>0.182730</td>\n",
       "      <td>0.028585</td>\n",
       "      <td>0.357128</td>\n",
       "      <td>1.000000</td>\n",
       "      <td>-0.099835</td>\n",
       "      <td>0.392377</td>\n",
       "      <td>0.028585</td>\n",
       "    </tr>\n",
       "    <tr>\n",
       "      <th>IDADE</th>\n",
       "      <td>-0.263256</td>\n",
       "      <td>0.112711</td>\n",
       "      <td>-0.032610</td>\n",
       "      <td>-0.099835</td>\n",
       "      <td>1.000000</td>\n",
       "      <td>-0.073055</td>\n",
       "      <td>0.112711</td>\n",
       "    </tr>\n",
       "    <tr>\n",
       "      <th>DIAS_PERM</th>\n",
       "      <td>0.156012</td>\n",
       "      <td>0.047180</td>\n",
       "      <td>0.546010</td>\n",
       "      <td>0.392377</td>\n",
       "      <td>-0.073055</td>\n",
       "      <td>1.000000</td>\n",
       "      <td>0.047180</td>\n",
       "    </tr>\n",
       "    <tr>\n",
       "      <th>PROC_REA</th>\n",
       "      <td>-0.178753</td>\n",
       "      <td>1.000000</td>\n",
       "      <td>0.102448</td>\n",
       "      <td>0.028585</td>\n",
       "      <td>0.112711</td>\n",
       "      <td>0.047180</td>\n",
       "      <td>1.000000</td>\n",
       "    </tr>\n",
       "  </tbody>\n",
       "</table>\n",
       "</div>"
      ],
      "text/plain": [
       "            MUNIC_RES  PROC_REA    VAL_SH  DIAG_PRINC     IDADE  DIAS_PERM  \\\n",
       "MUNIC_RES    1.000000 -0.178753  0.079887    0.182730 -0.263256   0.156012   \n",
       "PROC_REA    -0.178753  1.000000  0.102448    0.028585  0.112711   0.047180   \n",
       "VAL_SH       0.079887  0.102448  1.000000    0.357128 -0.032610   0.546010   \n",
       "DIAG_PRINC   0.182730  0.028585  0.357128    1.000000 -0.099835   0.392377   \n",
       "IDADE       -0.263256  0.112711 -0.032610   -0.099835  1.000000  -0.073055   \n",
       "DIAS_PERM    0.156012  0.047180  0.546010    0.392377 -0.073055   1.000000   \n",
       "PROC_REA    -0.178753  1.000000  0.102448    0.028585  0.112711   0.047180   \n",
       "\n",
       "            PROC_REA   \n",
       "MUNIC_RES   -0.178753  \n",
       "PROC_REA     1.000000  \n",
       "VAL_SH       0.102448  \n",
       "DIAG_PRINC   0.028585  \n",
       "IDADE        0.112711  \n",
       "DIAS_PERM    0.047180  \n",
       "PROC_REA     1.000000  "
      ]
     },
     "execution_count": 58,
     "metadata": {},
     "output_type": "execute_result"
    }
   ],
   "source": [
    "df.corr()"
   ]
  },
  {
   "cell_type": "markdown",
   "metadata": {},
   "source": [
    "#### Idade x Diagnóstico Principal"
   ]
  },
  {
   "cell_type": "code",
   "execution_count": 59,
   "metadata": {},
   "outputs": [
    {
     "data": {
      "text/html": [
       "<div>\n",
       "<style scoped>\n",
       "    .dataframe tbody tr th:only-of-type {\n",
       "        vertical-align: middle;\n",
       "    }\n",
       "\n",
       "    .dataframe tbody tr th {\n",
       "        vertical-align: top;\n",
       "    }\n",
       "\n",
       "    .dataframe thead th {\n",
       "        text-align: right;\n",
       "    }\n",
       "</style>\n",
       "<table border=\"1\" class=\"dataframe\">\n",
       "  <thead>\n",
       "    <tr style=\"text-align: right;\">\n",
       "      <th></th>\n",
       "      <th>IDADE</th>\n",
       "      <th>DIAG_PRINC</th>\n",
       "    </tr>\n",
       "  </thead>\n",
       "  <tbody>\n",
       "    <tr>\n",
       "      <th>IDADE</th>\n",
       "      <td>1.000000</td>\n",
       "      <td>-0.099835</td>\n",
       "    </tr>\n",
       "    <tr>\n",
       "      <th>DIAG_PRINC</th>\n",
       "      <td>-0.099835</td>\n",
       "      <td>1.000000</td>\n",
       "    </tr>\n",
       "  </tbody>\n",
       "</table>\n",
       "</div>"
      ],
      "text/plain": [
       "               IDADE  DIAG_PRINC\n",
       "IDADE       1.000000   -0.099835\n",
       "DIAG_PRINC -0.099835    1.000000"
      ]
     },
     "execution_count": 59,
     "metadata": {},
     "output_type": "execute_result"
    }
   ],
   "source": [
    "df[[\"IDADE\",\"DIAG_PRINC\"]].corr()"
   ]
  },
  {
   "cell_type": "code",
   "execution_count": 60,
   "metadata": {
    "scrolled": true
   },
   "outputs": [
    {
     "data": {
      "image/png": "[encoded data removed]",
      "text/plain": [
       "<Figure size 432x288 with 1 Axes>"
      ]
     },
     "metadata": {
      "needs_background": "light"
     },
     "output_type": "display_data"
    }
   ],
   "source": [
    "# distribution of observations\n",
    "sns.distplot(df['IDADE']);"
   ]
  },
  {
   "cell_type": "code",
   "execution_count": 61,
   "metadata": {
    "scrolled": true
   },
   "outputs": [
    {
     "data": {
      "text/plain": [
       "(0, 1.0510419048770769)"
      ]
     },
     "execution_count": 61,
     "metadata": {},
     "output_type": "execute_result"
    },
    {
     "data": {
      "image/png": "[encoded data removed]",
      "text/plain": [
       "<Figure size 432x288 with 1 Axes>"
      ]
     },
     "metadata": {
      "needs_background": "light"
     },
     "output_type": "display_data"
    }
   ],
   "source": [
    "\n",
    "sns.regplot(x=\"IDADE\", y=\"DIAG_PRINC\", data=df)\n",
    "plt.ylim(0,)"
   ]
  },
  {
   "cell_type": "markdown",
   "metadata": {},
   "source": [
    "#### Município de Residência X Diagnóstico Principal"
   ]
  },
  {
   "cell_type": "code",
   "execution_count": 62,
   "metadata": {},
   "outputs": [
    {
     "data": {
      "text/html": [
       "<div>\n",
       "<style scoped>\n",
       "    .dataframe tbody tr th:only-of-type {\n",
       "        vertical-align: middle;\n",
       "    }\n",
       "\n",
       "    .dataframe tbody tr th {\n",
       "        vertical-align: top;\n",
       "    }\n",
       "\n",
       "    .dataframe thead th {\n",
       "        text-align: right;\n",
       "    }\n",
       "</style>\n",
       "<table border=\"1\" class=\"dataframe\">\n",
       "  <thead>\n",
       "    <tr style=\"text-align: right;\">\n",
       "      <th></th>\n",
       "      <th>MUNIC_RES</th>\n",
       "      <th>DIAG_PRINC</th>\n",
       "    </tr>\n",
       "  </thead>\n",
       "  <tbody>\n",
       "    <tr>\n",
       "      <th>MUNIC_RES</th>\n",
       "      <td>1.00000</td>\n",
       "      <td>0.18273</td>\n",
       "    </tr>\n",
       "    <tr>\n",
       "      <th>DIAG_PRINC</th>\n",
       "      <td>0.18273</td>\n",
       "      <td>1.00000</td>\n",
       "    </tr>\n",
       "  </tbody>\n",
       "</table>\n",
       "</div>"
      ],
      "text/plain": [
       "            MUNIC_RES  DIAG_PRINC\n",
       "MUNIC_RES     1.00000     0.18273\n",
       "DIAG_PRINC    0.18273     1.00000"
      ]
     },
     "execution_count": 62,
     "metadata": {},
     "output_type": "execute_result"
    }
   ],
   "source": [
    "df[[\"MUNIC_RES\",\"DIAG_PRINC\"]].corr()"
   ]
  },
  {
   "cell_type": "code",
   "execution_count": 63,
   "metadata": {},
   "outputs": [
    {
     "data": {
      "image/png": "[encoded data removed]",
      "text/plain": [
       "<Figure size 432x288 with 1 Axes>"
      ]
     },
     "metadata": {
      "needs_background": "light"
     },
     "output_type": "display_data"
    }
   ],
   "source": [
    "# distribution of observations\n",
    "sns.distplot(df['MUNIC_RES']);"
   ]
  },
  {
   "cell_type": "code",
   "execution_count": 64,
   "metadata": {},
   "outputs": [
    {
     "data": {
      "text/plain": [
       "(0, 1.0500704937604179)"
      ]
     },
     "execution_count": 64,
     "metadata": {},
     "output_type": "execute_result"
    },
    {
     "data": {
      "image/png": "[encoded data removed]",
      "text/plain": [
       "<Figure size 432x288 with 1 Axes>"
      ]
     },
     "metadata": {
      "needs_background": "light"
     },
     "output_type": "display_data"
    }
   ],
   "source": [
    "# MUNIC_RES\n",
    "sns.regplot(x=\"MUNIC_RES\", y=\"DIAG_PRINC\", data=df)\n",
    "plt.ylim(0,)"
   ]
  },
  {
   "cell_type": "markdown",
   "metadata": {},
   "source": [
    "#### Procedimento Realizado x Diagnóstico Principal"
   ]
  },
  {
   "cell_type": "code",
   "execution_count": 65,
   "metadata": {},
   "outputs": [
    {
     "data": {
      "text/html": [
       "<div>\n",
       "<style scoped>\n",
       "    .dataframe tbody tr th:only-of-type {\n",
       "        vertical-align: middle;\n",
       "    }\n",
       "\n",
       "    .dataframe tbody tr th {\n",
       "        vertical-align: top;\n",
       "    }\n",
       "\n",
       "    .dataframe thead th {\n",
       "        text-align: right;\n",
       "    }\n",
       "</style>\n",
       "<table border=\"1\" class=\"dataframe\">\n",
       "  <thead>\n",
       "    <tr style=\"text-align: right;\">\n",
       "      <th></th>\n",
       "      <th>PROC_REA</th>\n",
       "      <th>DIAG_PRINC</th>\n",
       "    </tr>\n",
       "  </thead>\n",
       "  <tbody>\n",
       "    <tr>\n",
       "      <th>PROC_REA</th>\n",
       "      <td>1.000000</td>\n",
       "      <td>0.028585</td>\n",
       "    </tr>\n",
       "    <tr>\n",
       "      <th>DIAG_PRINC</th>\n",
       "      <td>0.028585</td>\n",
       "      <td>1.000000</td>\n",
       "    </tr>\n",
       "  </tbody>\n",
       "</table>\n",
       "</div>"
      ],
      "text/plain": [
       "            PROC_REA  DIAG_PRINC\n",
       "PROC_REA    1.000000    0.028585\n",
       "DIAG_PRINC  0.028585    1.000000"
      ]
     },
     "execution_count": 65,
     "metadata": {},
     "output_type": "execute_result"
    }
   ],
   "source": [
    "df[[\"PROC_REA\",\"DIAG_PRINC\"]].corr()"
   ]
  },
  {
   "cell_type": "code",
   "execution_count": 66,
   "metadata": {
    "scrolled": true
   },
   "outputs": [
    {
     "data": {
      "image/png": "[encoded data removed]",
      "text/plain": [
       "<Figure size 432x288 with 1 Axes>"
      ]
     },
     "metadata": {
      "needs_background": "light"
     },
     "output_type": "display_data"
    }
   ],
   "source": [
    "# distribution of observations\n",
    "sns.distplot(df['PROC_REA']);"
   ]
  },
  {
   "cell_type": "code",
   "execution_count": 67,
   "metadata": {},
   "outputs": [
    {
     "data": {
      "text/plain": [
       "(0, 1.0553809399331315)"
      ]
     },
     "execution_count": 67,
     "metadata": {},
     "output_type": "execute_result"
    },
    {
     "data": {
      "image/png": "[encoded data removed]",
      "text/plain": [
       "<Figure size 432x288 with 1 Axes>"
      ]
     },
     "metadata": {
      "needs_background": "light"
     },
     "output_type": "display_data"
    }
   ],
   "source": [
    "# PROC_REA \n",
    "sns.regplot(x=\"PROC_REA\", y=\"DIAG_PRINC\", data=df)\n",
    "plt.ylim(0,)"
   ]
  },
  {
   "cell_type": "code",
   "execution_count": 68,
   "metadata": {},
   "outputs": [
    {
     "data": {
      "image/png": "[encoded data removed]",
      "text/plain": [
       "<Figure size 360x360 with 1 Axes>"
      ]
     },
     "metadata": {
      "needs_background": "light"
     },
     "output_type": "display_data"
    }
   ],
   "source": [
    "sns.catplot(x=\"PROC_REA\", y=\"DIAG_PRINC\", data=df);"
   ]
  },
  {
   "cell_type": "markdown",
   "metadata": {},
   "source": [
    "#### Valor do Procedimento x Diagnóstico Principal"
   ]
  },
  {
   "cell_type": "code",
   "execution_count": 69,
   "metadata": {},
   "outputs": [
    {
     "data": {
      "text/html": [
       "<div>\n",
       "<style scoped>\n",
       "    .dataframe tbody tr th:only-of-type {\n",
       "        vertical-align: middle;\n",
       "    }\n",
       "\n",
       "    .dataframe tbody tr th {\n",
       "        vertical-align: top;\n",
       "    }\n",
       "\n",
       "    .dataframe thead th {\n",
       "        text-align: right;\n",
       "    }\n",
       "</style>\n",
       "<table border=\"1\" class=\"dataframe\">\n",
       "  <thead>\n",
       "    <tr style=\"text-align: right;\">\n",
       "      <th></th>\n",
       "      <th>VAL_SH</th>\n",
       "      <th>DIAG_PRINC</th>\n",
       "    </tr>\n",
       "  </thead>\n",
       "  <tbody>\n",
       "    <tr>\n",
       "      <th>VAL_SH</th>\n",
       "      <td>1.000000</td>\n",
       "      <td>0.357128</td>\n",
       "    </tr>\n",
       "    <tr>\n",
       "      <th>DIAG_PRINC</th>\n",
       "      <td>0.357128</td>\n",
       "      <td>1.000000</td>\n",
       "    </tr>\n",
       "  </tbody>\n",
       "</table>\n",
       "</div>"
      ],
      "text/plain": [
       "              VAL_SH  DIAG_PRINC\n",
       "VAL_SH      1.000000    0.357128\n",
       "DIAG_PRINC  0.357128    1.000000"
      ]
     },
     "execution_count": 69,
     "metadata": {},
     "output_type": "execute_result"
    }
   ],
   "source": [
    "df[[\"VAL_SH\",\"DIAG_PRINC\"]].corr()"
   ]
  },
  {
   "cell_type": "code",
   "execution_count": 70,
   "metadata": {},
   "outputs": [
    {
     "data": {
      "image/png": "[encoded data removed]",
      "text/plain": [
       "<Figure size 432x288 with 1 Axes>"
      ]
     },
     "metadata": {
      "needs_background": "light"
     },
     "output_type": "display_data"
    }
   ],
   "source": [
    "# distribution of observations\n",
    "sns.distplot(df['VAL_SH']);"
   ]
  },
  {
   "cell_type": "code",
   "execution_count": 71,
   "metadata": {},
   "outputs": [
    {
     "data": {
      "text/plain": [
       "(0, 1.6907742091222959)"
      ]
     },
     "execution_count": 71,
     "metadata": {},
     "output_type": "execute_result"
    },
    {
     "data": {
      "image/png": "[encoded data removed]",
      "text/plain": [
       "<Figure size 432x288 with 1 Axes>"
      ]
     },
     "metadata": {
      "needs_background": "light"
     },
     "output_type": "display_data"
    }
   ],
   "source": [
    "# VAL_SH \n",
    "sns.regplot(x=\"VAL_SH\", y=\"DIAG_PRINC\", data=df)\n",
    "plt.ylim(0,)"
   ]
  },
  {
   "cell_type": "markdown",
   "metadata": {},
   "source": [
    "#### Dias de Permanência x Diagnóstico Principal"
   ]
  },
  {
   "cell_type": "code",
   "execution_count": 72,
   "metadata": {},
   "outputs": [
    {
     "data": {
      "text/html": [
       "<div>\n",
       "<style scoped>\n",
       "    .dataframe tbody tr th:only-of-type {\n",
       "        vertical-align: middle;\n",
       "    }\n",
       "\n",
       "    .dataframe tbody tr th {\n",
       "        vertical-align: top;\n",
       "    }\n",
       "\n",
       "    .dataframe thead th {\n",
       "        text-align: right;\n",
       "    }\n",
       "</style>\n",
       "<table border=\"1\" class=\"dataframe\">\n",
       "  <thead>\n",
       "    <tr style=\"text-align: right;\">\n",
       "      <th></th>\n",
       "      <th>DIAS_PERM</th>\n",
       "      <th>DIAG_PRINC</th>\n",
       "    </tr>\n",
       "  </thead>\n",
       "  <tbody>\n",
       "    <tr>\n",
       "      <th>DIAS_PERM</th>\n",
       "      <td>1.000000</td>\n",
       "      <td>0.392377</td>\n",
       "    </tr>\n",
       "    <tr>\n",
       "      <th>DIAG_PRINC</th>\n",
       "      <td>0.392377</td>\n",
       "      <td>1.000000</td>\n",
       "    </tr>\n",
       "  </tbody>\n",
       "</table>\n",
       "</div>"
      ],
      "text/plain": [
       "            DIAS_PERM  DIAG_PRINC\n",
       "DIAS_PERM    1.000000    0.392377\n",
       "DIAG_PRINC   0.392377    1.000000"
      ]
     },
     "execution_count": 72,
     "metadata": {},
     "output_type": "execute_result"
    }
   ],
   "source": [
    "df[[\"DIAS_PERM\",\"DIAG_PRINC\"]].corr()"
   ]
  },
  {
   "cell_type": "code",
   "execution_count": 73,
   "metadata": {},
   "outputs": [
    {
     "data": {
      "image/png": "[encoded data removed]",
      "text/plain": [
       "<Figure size 432x288 with 1 Axes>"
      ]
     },
     "metadata": {
      "needs_background": "light"
     },
     "output_type": "display_data"
    }
   ],
   "source": [
    "# distribution of observations\n",
    "sns.distplot(df['DIAS_PERM']);"
   ]
  },
  {
   "cell_type": "code",
   "execution_count": 74,
   "metadata": {
    "scrolled": true
   },
   "outputs": [
    {
     "data": {
      "text/plain": [
       "(0, 1.0500704937604179)"
      ]
     },
     "execution_count": 74,
     "metadata": {},
     "output_type": "execute_result"
    },
    {
     "data": {
      "image/png": "[encoded data removed]",
      "text/plain": [
       "<Figure size 432x288 with 1 Axes>"
      ]
     },
     "metadata": {
      "needs_background": "light"
     },
     "output_type": "display_data"
    }
   ],
   "source": [
    "# DIAS_PERM\n",
    "sns.regplot(x=\"DIAS_PERM\", y=\"DIAG_PRINC\", data=df)\n",
    "plt.ylim(0,)"
   ]
  },
  {
   "cell_type": "markdown",
   "metadata": {},
   "source": [
    "#### Conclusões : \n",
    "\n",
    "As  features ( colunas ) selecionadas e analisadas se apresentam em um número bem reduzido para compor o modelo como também apresentam baixo índice de correlação com a váriavel target ( diagonóstico principal )  . Esse cenário da qualidade dos dados comprometem diretamente os resultados de uma possível  implementação. "
   ]
  }
 ],
 "metadata": {
  "kernelspec": {
   "display_name": "Python 3",
   "language": "python",
   "name": "python3"
  },
  "language_info": {
   "codemirror_mode": {
    "name": "ipython",
    "version": 3
   },
   "file_extension": ".py",
   "mimetype": "text/x-python",
   "name": "python",
   "nbconvert_exporter": "python",
   "pygments_lexer": "ipython3",
   "version": "3.7.0"
  }
 },
 "nbformat": 4,
 "nbformat_minor": 2
}
